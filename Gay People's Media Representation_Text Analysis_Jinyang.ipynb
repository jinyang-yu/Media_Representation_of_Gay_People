{
 "cells": [
  {
   "cell_type": "markdown",
   "id": "15aeabe0",
   "metadata": {},
   "source": [
    "### Research Project 2: Text Analysis\n",
    "**Name: Jinyang Yu**  \n",
    "**Date: Mar 19, 2023**"
   ]
  },
  {
   "cell_type": "markdown",
   "id": "905af617",
   "metadata": {},
   "source": [
    "1-2 cells describing the question or puzzle you are exploring, why it is interesting or important, how others have attempted to answer this question, and how you are improving on these answers. If no one has addressed this question, explain why you think this is the case. In other words, what are you doing that's different than what others have done?  \n",
    "2-4 cells describing the data or material you are using to explore the question and how you collected the data or material. These cells should include summary statistics of the data/material if possible. If appropriate, describe what your data or material are representative of.  \n",
    "2-10 cells containing the analysis or steps toward an analysis. These cells should contain a description of the planned analysis process and why it is appropriate for your question and data/material, followed by code implementing either some of the techniques or at least provides some summary descriptions of your data or material, the output from the calculations or the summary descriptions of your data or material, and a description of how you understand the output.  \n",
    "1-2 cells producing some sort of data visualization or data summary output.  \n",
    "1-2 cells detailing your interpretation of the output, and broader conclusions about history and/or the world around you that you draw from your exploration, or that you would hope to draw if you carried the project further. Support your interpretation with evidence from your analysis. End with suggestions for further analyses and other data or material that could help us continue to explore your question.  \n",
    "1 cell describing any ethical implications of your data collection and analysis. (This doesn't have to go at the end, it can go at the beginning as well. Wherever is makes sense to include it, but make sure it is included somewhere.)"
   ]
  },
  {
   "cell_type": "markdown",
   "id": "01855d32",
   "metadata": {},
   "source": [
    "# Representation of gay people in Chinese state-owned media: a text analysis of People's Daily from 1980 to 2022"
   ]
  },
  {
   "cell_type": "markdown",
   "id": "0d3aeeec",
   "metadata": {},
   "source": [
    "## Research Background\n",
    "In the past decade, there have been numerous successes for the lesbian, gay, bisexual, transgender, and queer (LGBTQ) rights movement worldwide, such as the legalization of same-sex marriage in the United States and Cuba. In 2019, Taiwan’s legislature approved the first law allowing same-sex marriage in Asia. Meanwhile across the strait, LGBTQ individuals in China are encountering significant hostility from the Chinese government. On June 30, 2017, China Netcasting Services Association has passed the [Regulations on the Review of Online Audio-Visual Programs](http://www.xinhuanet.com//zgjx/2017-07/01/c_136409024.htm) which prohibits the broadcast of content related to homosexuality and equates homosexuality with incest, sexual perversions, and sexual assault as abnormal sexual behavior and relationships. On July 6, 2021, China’s most popular messaging service, WeChat, [abruptly disabled dozens of LGBTQ accounts operated by university students](https://www.bbc.com/zhongwen/simp/chinese-news-57763594).\n"
   ]
  },
  {
   "cell_type": "markdown",
   "id": "b31fcf63",
   "metadata": {},
   "source": [
    "## Research Question\n",
    "China has one of the largest LGBTQ populations in the world [(Wang et al., 2019)](https://www.thelancet.com/journals/lanpub/article/PIIS2468-2667(19)30153-7/fulltext). For authoritarian regimes like China, the stance of the Chinese government towards gay individuals holds substantial weight on their life experiences. Policies and laws implemented by the state can exert a notable influence on their daily lives. On the other hand, public attitudes towards homosexuality can also significantly shape their experiences. Negative attitudes of the general publictowards homosexuality can lead to discrimination, harassment, and even violence against LGBTQ people, while related policies can leave them unprotected and even cause more harm.  \n",
    "\n",
    "A substantial amount of research suggests that media plays an important role in shaping the general public's attitudes [(Żerebecki et al., 2021)](https://compass.onlinelibrary.wiley.com/doi/10.1111/soc4.12906). Thus, mass media is often used in propaganda and persuasion [(Soules, 2015)](https://www.jstor.org/stable/10.3366/j.ctt1g09zzm). For authoritarian regimes like China, a growing body of research has revealed that official media serves as means of spreading the political ideology of the Chinese government among the general public [(Jaros & Pan, 2018)](https://www.cambridge.org/core/journals/china-quarterly/article/chinas-newsmakers-official-media-coverage-and-political-shifts-in-the-xi-jinping-era/4DB43816C800AD2AC59B75A5FFA11F14). As a result, representation of gay people in Chinese state-owned media can be a reflection of Chinese government's attitudes toward homosexuality as well as shaping how the general public perceives homosexuality. \n",
    "\n",
    "After the Chinese economic reform, industrialization, urbanization and globalization have transformed Chinese attitudes toward a wide variety of social issues, including homosexuality [(Xie & Peng, 2018)](https://www.tandfonline.com/doi/full/10.1080/00918369.2017.1386025). On the other hand, it is observed that after President Xi came to power, the Chinese government imposed harsher restrictions against LGBTQ groups [(Fu & Dirks, 2021;](https://tspace.library.utoronto.ca/handle/1807/107927) [Chia, 2019)](https://heinonline.org/HOL/LandingPage?handle=hein.journals/ajal20&div=5&id=&page=). Therefore, it is plausible to suggest that there may be a disparity in the representation of gay individuals prior to and following Xi's ascension to power. \n",
    "\n",
    "The majority of previous research examining the portrayal of gay individuals in media has been concentrated on Western nations, with limited attention paid to China [(Dhaenens, 2013)](https://www.tandfonline.com/doi/abs/10.1080/13676261.2012.718435). Among the limited amount of research, the existing studies have predominantly employed quantitative or qualitative methods. However, quantitative research provides only rudimentary statistical data such as the number of articles, which may lack specific context, while qualitative research alone is not able to offer a comprehensive overview [(Huang, 2018)](https://www.tandfonline.com/doi/full/10.1080/00918369.2017.1317475). Also, previous research didn't pay attention to the impact of Xi's rise to leadership.   \n",
    "\n",
    "In this project, computational methods will be employed to carry out a text analysis of People's Daily, which is not only the largest state-owned media but also considered the most influential newspaper in China. The aim is to investigate the depiction of gay individuals in Chinese state-owned media, bridging the gap left by traditional quantitative and qualitative approaches. Additionally, this project will pay attention to how the representation of gay people in People's Daily change before and after Xi came to power.\n",
    "\n",
    "This project examines the following questions:  \n",
    "What's the representation of gay people in People's Daily?  \n",
    "How the representation of gay people in People's Daily changed before and after Xi came to power?"
   ]
  },
  {
   "cell_type": "markdown",
   "id": "8a32e104",
   "metadata": {},
   "source": [
    "## Data\n",
    "The measurement of the portrayal of gay individuals is straightforward in China, where they are commonly referred to as '_tongxinglian_' (同性恋). By searching for the keyword 'homosexual' (同性恋) within the [People's Daily database](http://data.people.com.cn/rmrb/s?qs=%7B%22cds%22%3A%5B%7B%22cdr%22%3A%22AND%22%2C%22cds%22%3A%5B%7B%22fld%22%3A%22title%22%2C%22cdr%22%3A%22OR%22%2C%22hlt%22%3A%22true%22%2C%22vlr%22%3A%22AND%22%2C%22qtp%22%3A%22DEF%22%2C%22val%22%3A%22%E5%90%8C%E6%80%A7%E6%81%8B%22%7D%2C%7B%22fld%22%3A%22subTitle%22%2C%22cdr%22%3A%22OR%22%2C%22hlt%22%3A%22false%22%2C%22vlr%22%3A%22AND%22%2C%22qtp%22%3A%22DEF%22%2C%22val%22%3A%22%E5%90%8C%E6%80%A7%E6%81%8B%22%7D%2C%7B%22fld%22%3A%22introTitle%22%2C%22cdr%22%3A%22OR%22%2C%22hlt%22%3A%22false%22%2C%22vlr%22%3A%22AND%22%2C%22qtp%22%3A%22DEF%22%2C%22val%22%3A%22%E5%90%8C%E6%80%A7%E6%81%8B%22%7D%2C%7B%22fld%22%3A%22contentText%22%2C%22cdr%22%3A%22OR%22%2C%22hlt%22%3A%22true%22%2C%22vlr%22%3A%22AND%22%2C%22qtp%22%3A%22DEF%22%2C%22val%22%3A%22%E5%90%8C%E6%80%A7%E6%81%8B%22%7D%5D%7D%5D%2C%22obs%22%3A%5B%7B%22fld%22%3A%22dataTime%22%2C%22drt%22%3A%22ASC%22%7D%5D%7D&tr=A&ss=1&pageNo=1&pageSize=20), articles related to gay individuals are retrieved, which can be downloaded as html files. The dataset comprises a total of 204 articles, spanning across 13 pages, and covering the period between 1980 and 2022."
   ]
  },
  {
   "cell_type": "code",
   "execution_count": 1,
   "id": "253d87cf",
   "metadata": {},
   "outputs": [],
   "source": [
    "import re #regular expression\n",
    "from bs4 import BeautifulSoup #html parser\n",
    "import pandas as pd #dataframe\n",
    "import glob, os #retrieve files/pathnames matching a specified pattern\n",
    "import seaborn as sns #visualization library\n",
    "import matplotlib\n",
    "import matplotlib.pyplot as plt #plotting\n",
    "import matplotlib.font_manager #font of plots\n",
    "import jieba #chinese word cutting\n",
    "import string #import string, which is where we get a list of punctuation\n",
    "from snownlp import SnowNLP\n",
    "from bixin import predict"
   ]
  },
  {
   "cell_type": "markdown",
   "id": "5e23308c",
   "metadata": {},
   "source": [
    "### 1. Data Description"
   ]
  },
  {
   "cell_type": "code",
   "execution_count": 2,
   "id": "91b8cbef",
   "metadata": {},
   "outputs": [],
   "source": [
    "path= '/Users/jinyang/Documents/Term_2/SOCI_508/data/peoplesdaily'\n",
    "os.chdir(path) # directory of text files\n",
    "filelist = glob.glob(\"*.html\")\n",
    "\n",
    "articles = []\n",
    "\n",
    "for file in filelist:\n",
    "    f = open(file, \"r\", encoding=\"utf-8\")\n",
    "    html = f.read()\n",
    "    soup = BeautifulSoup(html, 'html.parser')\n",
    "    for div in soup.find_all('div', {'class': 'detail'}):\n",
    "        title = div.find('h2').get_text()\n",
    "        date_match = re.search(r'时间：(\\d{4}-\\d{2}-\\d{2})', div.get_text())\n",
    "        date = date_match.group(1)\n",
    "        body = div.find('div', {'class': 'detail-p'}).get_text().strip()\n",
    "        articles.append({'Title': title, 'Date': date, 'Body': body})\n",
    "\n",
    "df = pd.DataFrame(articles)"
   ]
  },
  {
   "cell_type": "code",
   "execution_count": 3,
   "id": "d56ad052",
   "metadata": {},
   "outputs": [
    {
     "data": {
      "text/html": [
       "<div>\n",
       "<style scoped>\n",
       "    .dataframe tbody tr th:only-of-type {\n",
       "        vertical-align: middle;\n",
       "    }\n",
       "\n",
       "    .dataframe tbody tr th {\n",
       "        vertical-align: top;\n",
       "    }\n",
       "\n",
       "    .dataframe thead th {\n",
       "        text-align: right;\n",
       "    }\n",
       "</style>\n",
       "<table border=\"1\" class=\"dataframe\">\n",
       "  <thead>\n",
       "    <tr style=\"text-align: right;\">\n",
       "      <th></th>\n",
       "      <th>Title</th>\n",
       "      <th>Date</th>\n",
       "      <th>Body</th>\n",
       "    </tr>\n",
       "  </thead>\n",
       "  <tbody>\n",
       "    <tr>\n",
       "      <th>54</th>\n",
       "      <td>市长选举与美国式民主</td>\n",
       "      <td>1980-03-13</td>\n",
       "      <td>本报记者　张彦　　我们访问旧金山期间，正好赶上改选市长、督察员、检察官和行政司法官，报纸和电...</td>\n",
       "    </tr>\n",
       "    <tr>\n",
       "      <th>13</th>\n",
       "      <td>美国保守主义的派别</td>\n",
       "      <td>1981-02-19</td>\n",
       "      <td>里根总统和财政部长唐纳德·里甘（右二）等在办公室审查联邦开支。(人民数据库资料)里根总统的就...</td>\n",
       "    </tr>\n",
       "    <tr>\n",
       "      <th>12</th>\n",
       "      <td>《美国之旅》后记</td>\n",
       "      <td>1984-02-10</td>\n",
       "      <td>１　　这是一本访问美国之后所得的诗篇。　　１９８２年秋，我作为中国作家代表团的成员之一，到洛...</td>\n",
       "    </tr>\n",
       "    <tr>\n",
       "      <th>11</th>\n",
       "      <td>西方的获得性免疫缺损综合症</td>\n",
       "      <td>1985-03-01</td>\n",
       "      <td>近年来，一种使人感到恐惧、厌恶、羞耻和神秘的病——获得性免疫缺损综合症，正日益广泛和迅速地在...</td>\n",
       "    </tr>\n",
       "    <tr>\n",
       "      <th>10</th>\n",
       "      <td>美国来的信</td>\n",
       "      <td>1985-03-20</td>\n",
       "      <td>说老实话，小李，我个人认为，美国父母在这方面，实在对他们的子女太纵容了，给了他们太多的自由了...</td>\n",
       "    </tr>\n",
       "    <tr>\n",
       "      <th>...</th>\n",
       "      <td>...</td>\n",
       "      <td>...</td>\n",
       "      <td>...</td>\n",
       "    </tr>\n",
       "    <tr>\n",
       "      <th>48</th>\n",
       "      <td>网络电影应纳入法律（聚焦审议）</td>\n",
       "      <td>2016-11-02</td>\n",
       "      <td>本报记者 王比学　　10月31日，十二届全国人大常委会第二十四次会议分组审议了电影产业促进法...</td>\n",
       "    </tr>\n",
       "    <tr>\n",
       "      <th>47</th>\n",
       "      <td>全球接受艾滋病“救命疗法”的人数翻倍</td>\n",
       "      <td>2016-11-23</td>\n",
       "      <td>据新华社日内瓦11月21日电  （记者张淼）联合国艾滋病规划署21日发布报告说，截至2016...</td>\n",
       "    </tr>\n",
       "    <tr>\n",
       "      <th>46</th>\n",
       "      <td>美国主流媒体病症透析（人民观察）</td>\n",
       "      <td>2016-12-04</td>\n",
       "      <td>张天培　　2016年美国总统大选的结果出现与媒体预测相反的“逆转”，恐怕是美国主流媒体始料未...</td>\n",
       "    </tr>\n",
       "    <tr>\n",
       "      <th>45</th>\n",
       "      <td>2016年美国侵犯人权事记</td>\n",
       "      <td>2017-03-10</td>\n",
       "      <td>一月　　4日  《华盛顿邮报》网站报道，27岁的非洲裔男子埃里克·约翰·塞内加尔在拉格里的一...</td>\n",
       "    </tr>\n",
       "    <tr>\n",
       "      <th>44</th>\n",
       "      <td>慢性乙肝应长期治疗（健康之道·细说肝病②）</td>\n",
       "      <td>2018-06-01</td>\n",
       "      <td>王 宇　　对于成年人来讲，感染乙肝后大部分能自行恢复，发展为慢性乙肝的可能仅为5%左右。但新...</td>\n",
       "    </tr>\n",
       "  </tbody>\n",
       "</table>\n",
       "<p>208 rows × 3 columns</p>\n",
       "</div>"
      ],
      "text/plain": [
       "                    Title        Date  \\\n",
       "54             市长选举与美国式民主  1980-03-13   \n",
       "13              美国保守主义的派别  1981-02-19   \n",
       "12               《美国之旅》后记  1984-02-10   \n",
       "11          西方的获得性免疫缺损综合症  1985-03-01   \n",
       "10                  美国来的信  1985-03-20   \n",
       "..                    ...         ...   \n",
       "48        网络电影应纳入法律（聚焦审议）  2016-11-02   \n",
       "47     全球接受艾滋病“救命疗法”的人数翻倍  2016-11-23   \n",
       "46       美国主流媒体病症透析（人民观察）  2016-12-04   \n",
       "45          2016年美国侵犯人权事记  2017-03-10   \n",
       "44  慢性乙肝应长期治疗（健康之道·细说肝病②）  2018-06-01   \n",
       "\n",
       "                                                 Body  \n",
       "54  本报记者　张彦　　我们访问旧金山期间，正好赶上改选市长、督察员、检察官和行政司法官，报纸和电...  \n",
       "13  里根总统和财政部长唐纳德·里甘（右二）等在办公室审查联邦开支。(人民数据库资料)里根总统的就...  \n",
       "12  １　　这是一本访问美国之后所得的诗篇。　　１９８２年秋，我作为中国作家代表团的成员之一，到洛...  \n",
       "11  近年来，一种使人感到恐惧、厌恶、羞耻和神秘的病——获得性免疫缺损综合症，正日益广泛和迅速地在...  \n",
       "10  说老实话，小李，我个人认为，美国父母在这方面，实在对他们的子女太纵容了，给了他们太多的自由了...  \n",
       "..                                                ...  \n",
       "48  本报记者 王比学　　10月31日，十二届全国人大常委会第二十四次会议分组审议了电影产业促进法...  \n",
       "47  据新华社日内瓦11月21日电  （记者张淼）联合国艾滋病规划署21日发布报告说，截至2016...  \n",
       "46  张天培　　2016年美国总统大选的结果出现与媒体预测相反的“逆转”，恐怕是美国主流媒体始料未...  \n",
       "45  一月　　4日  《华盛顿邮报》网站报道，27岁的非洲裔男子埃里克·约翰·塞内加尔在拉格里的一...  \n",
       "44  王 宇　　对于成年人来讲，感染乙肝后大部分能自行恢复，发展为慢性乙肝的可能仅为5%左右。但新...  \n",
       "\n",
       "[208 rows x 3 columns]"
      ]
     },
     "execution_count": 3,
     "metadata": {},
     "output_type": "execute_result"
    }
   ],
   "source": [
    "df = df.sort_values(by='Date')\n",
    "df"
   ]
  },
  {
   "cell_type": "code",
   "execution_count": 6,
   "id": "0071ded9",
   "metadata": {},
   "outputs": [],
   "source": [
    "df.to_csv('data.csv', index=False, encoding='utf-8')"
   ]
  },
  {
   "cell_type": "code",
   "execution_count": 5,
   "id": "86e6066f",
   "metadata": {},
   "outputs": [
    {
     "name": "stdout",
     "output_type": "stream",
     "text": [
      "The CSV file has been exported to: /Users/jinyang/Documents/Term_2/SOCI_508/data/peoplesdaily/data.csv\n"
     ]
    }
   ],
   "source": [
    "# Get the current working directory\n",
    "current_dir = os.getcwd()\n",
    "\n",
    "# Construct the full path to the exported CSV file\n",
    "csv_path = os.path.join(current_dir, 'data.csv')\n",
    "\n",
    "print(f\"The CSV file has been exported to: {csv_path}\")"
   ]
  },
  {
   "cell_type": "markdown",
   "id": "6e531dce",
   "metadata": {},
   "source": [
    "### 2. Different Time Periods"
   ]
  },
  {
   "cell_type": "markdown",
   "id": "ca47127a",
   "metadata": {},
   "source": [
    "With data from 1980 to 2022, this project divide articles into two time periods: before Xi came to power, 1980-2012; after Xi came to power, 2013-2022."
   ]
  },
  {
   "cell_type": "code",
   "execution_count": 4,
   "id": "80e59439",
   "metadata": {},
   "outputs": [],
   "source": [
    "mask1 = (df['Date'] >= '1980-01-01') & (df['Date'] <= '2012-12-31')\n",
    "mask2 = (df['Date'] >= '2013-01-01') & (df['Date'] <= '2022-12-31')\n",
    "df1 = df[mask1]\n",
    "df2 = df[mask2]"
   ]
  },
  {
   "cell_type": "code",
   "execution_count": 5,
   "id": "b2a6a0d4",
   "metadata": {},
   "outputs": [],
   "source": [
    "df['Date'] = pd.to_datetime(df['Date'])\n",
    "year_counts = df.groupby(df['Date'].dt.year)['Title'].count()"
   ]
  },
  {
   "cell_type": "code",
   "execution_count": 6,
   "id": "68d27da3",
   "metadata": {},
   "outputs": [],
   "source": [
    "year_df=pd.DataFrame(year_counts)\n",
    "year_df=year_df.reset_index()\n",
    "year_df.rename(columns={\"Date\": \"year\", \"Title\": \"count\"}, inplace=True)"
   ]
  },
  {
   "cell_type": "code",
   "execution_count": 7,
   "id": "70ab8858",
   "metadata": {},
   "outputs": [
    {
     "data": {
      "text/html": [
       "<div>\n",
       "<style scoped>\n",
       "    .dataframe tbody tr th:only-of-type {\n",
       "        vertical-align: middle;\n",
       "    }\n",
       "\n",
       "    .dataframe tbody tr th {\n",
       "        vertical-align: top;\n",
       "    }\n",
       "\n",
       "    .dataframe thead th {\n",
       "        text-align: right;\n",
       "    }\n",
       "</style>\n",
       "<table border=\"1\" class=\"dataframe\">\n",
       "  <thead>\n",
       "    <tr style=\"text-align: right;\">\n",
       "      <th></th>\n",
       "      <th>count</th>\n",
       "      <th>time period</th>\n",
       "    </tr>\n",
       "    <tr>\n",
       "      <th>year group</th>\n",
       "      <th></th>\n",
       "      <th></th>\n",
       "    </tr>\n",
       "  </thead>\n",
       "  <tbody>\n",
       "    <tr>\n",
       "      <th>0</th>\n",
       "      <td>182</td>\n",
       "      <td>1980-2012</td>\n",
       "    </tr>\n",
       "    <tr>\n",
       "      <th>1</th>\n",
       "      <td>26</td>\n",
       "      <td>2013-2022</td>\n",
       "    </tr>\n",
       "  </tbody>\n",
       "</table>\n",
       "</div>"
      ],
      "text/plain": [
       "            count time period\n",
       "year group                   \n",
       "0             182   1980-2012\n",
       "1              26   2013-2022"
      ]
     },
     "execution_count": 7,
     "metadata": {},
     "output_type": "execute_result"
    }
   ],
   "source": [
    "year_groups = [(1980, 2012), (2013, 2022)]\n",
    "year_df['year group'] = pd.cut(year_df['year'], bins=[year_groups[i][0]-1 for i in range(len(year_groups))] + [year_groups[-1][1]], labels=range(len(year_groups)))\n",
    "year_df=year_df.groupby(year_df['year group'])['count'].sum()\n",
    "tp_df=pd.DataFrame(year_df)\n",
    "tp_df['time period']=['1980-2012','2013-2022']\n",
    "tp_df"
   ]
  },
  {
   "cell_type": "code",
   "execution_count": 8,
   "id": "7b7dc5e4",
   "metadata": {
    "scrolled": false
   },
   "outputs": [
    {
     "data": {
      "image/png": "[encoded data removed]",
      "text/plain": [
       "<Figure size 1200x800 with 1 Axes>"
      ]
     },
     "metadata": {},
     "output_type": "display_data"
    }
   ],
   "source": [
    "fig, ax = plt.subplots(figsize=(12,8))\n",
    "sns.barplot(x=tp_df['time period'], y=tp_df['count'], color='grey')\n",
    "ax.set_facecolor('white') #set background as white\n",
    "\n",
    "#remove spines around the chart\n",
    "ax.spines['top'].set_visible(False)\n",
    "ax.spines[\"bottom\"].set_visible(False)\n",
    "ax.spines[\"right\"].set_visible(False)\n",
    "ax.spines[\"left\"].set_visible(False)\n",
    "\n",
    "#label the frequency on the top of each bar\n",
    "for i, bar in enumerate(ax.containers):\n",
    "    heights = [b.get_height() for b in bar]\n",
    "    for j, height in enumerate(heights):\n",
    "        ax.annotate(int(heights[j]), xy=(bar[j].get_x()+ bar[j].get_width() / 2, heights[j]),\n",
    "                    xytext=(0, 0), \n",
    "                    textcoords=\"offset points\",\n",
    "                    ha='center', va='bottom', fontsize=14,family='cursive')\n",
    "    \n",
    "plt.xlabel('') #year is obvious, we don't need the label\n",
    "plt.xticks(fontsize=14, family='cursive') #set font and size of year on x-axis\n",
    "\n",
    "plt.ylabel('Number of articles', fontsize=14, family='cursive') #set y-label\n",
    "plt.yticks(fontsize=14, family='cursive') #set font and size of year on x-axis\n",
    "\n",
    "plt.title(\"Figure 1: Number of articles from 1980 to 2022\",family='cursive', size= 16, weight='bold')\n",
    "\n",
    "#control ticks\n",
    "plt.tick_params(\n",
    "    axis='x',          # changes apply to the x-axis\n",
    "    which='both',      # both major and minor ticks are affected\n",
    "    bottom=False,      # ticks along the bottom edge are off\n",
    "    top=False,         # ticks along the top edge are off\n",
    "    labelbottom=True) # labels along the bottom edge are on\n",
    "\n",
    "plt.tick_params(\n",
    "    axis='y',          # changes apply to the y-axis\n",
    "    which='both',      # both major and minor ticks are affected\n",
    "    left=False,      # ticks along the left edge are off\n",
    "    labelbottom=True) # labels along the bottom edge are on\n",
    "\n",
    "plt.tight_layout() #make sure the layout is efficient"
   ]
  },
  {
   "cell_type": "markdown",
   "id": "ce4a733e",
   "metadata": {},
   "source": [
    "From 1980 to 2012, there are 182 articles in total mentioning homosexuality on People's Daily, with an average of 5.52 articles per year (182/33). However, from 2013 to 2022, there are only 26 articles mentioning homosexuality, with an average of 2.6 articles per year (26/10), which is only a half of the previous time period. The result indicates that after Xi came to power, Chinese state-owned media avoids mentioning gay people and attention paid to gay people has reduced over a half."
   ]
  },
  {
   "cell_type": "markdown",
   "id": "4ba3a614",
   "metadata": {},
   "source": [
    "## Text Analysis"
   ]
  },
  {
   "cell_type": "markdown",
   "id": "8b29a12d",
   "metadata": {},
   "source": [
    "### 1. Word Frequency"
   ]
  },
  {
   "cell_type": "code",
   "execution_count": 9,
   "id": "663da1c4",
   "metadata": {},
   "outputs": [
    {
     "name": "stderr",
     "output_type": "stream",
     "text": [
      "Building prefix dict from the default dictionary ...\n",
      "Loading model from cache /var/folders/zj/0n68ddwj13s62557809lw1200000gn/T/jieba.cache\n",
      "Loading model cost 0.388 seconds.\n",
      "Prefix dict has been built successfully.\n"
     ]
    }
   ],
   "source": [
    "text1=df1['Body'].to_string()\n",
    "words1 =jieba.cut(text1)\n",
    "word_list1 = []\n",
    "for word1 in words1:\n",
    "    word_list1.append(word1)"
   ]
  },
  {
   "cell_type": "code",
   "execution_count": 10,
   "id": "cd46653a",
   "metadata": {},
   "outputs": [],
   "source": [
    "stopwords = [line.strip() for line in open('/Users/jinyang/Documents/Data/stopwords-master/baidu_stopwords.txt', 'r', encoding='UTF-8').readlines()]\n",
    "wordcounts1 = {}\n",
    "for word in word_list1:\n",
    "    if len(word) == 1:\n",
    "        continue\n",
    "    if word in stopwords:\n",
    "        continue\n",
    "    if word.isnumeric():\n",
    "        continue\n",
    "    if word == '新华社' or word== '报道'or word== '...'or word== '本报'or word== '记者' or word== '一种'or word == '本报记者' or word == '日电':\n",
    "        continue\n",
    "    else:\n",
    "        wordcounts1[word]=wordcounts1.get(word, 0) + 1"
   ]
  },
  {
   "cell_type": "code",
   "execution_count": 11,
   "id": "8597ff42",
   "metadata": {},
   "outputs": [],
   "source": [
    "top_words1 = sorted(wordcounts1.items(), key=lambda x: x[1], reverse=True)[:10]\n",
    "words1 = [x[0] for x in top_words1]\n",
    "freqs1 = [x[1] for x in top_words1]\n",
    "words_eng1=['AIDS','United States','World','China','Found','International ',\n",
    "           'Beijing','Washington', 'Hong Kong', 'Our country']"
   ]
  },
  {
   "cell_type": "code",
   "execution_count": 12,
   "id": "a4189bde",
   "metadata": {},
   "outputs": [
    {
     "data": {
      "text/plain": [
       "['艾滋病', '美国', '世界', '中国', '发现', '国际', '北京', '华盛顿', '香港', '我国']"
      ]
     },
     "execution_count": 12,
     "metadata": {},
     "output_type": "execute_result"
    }
   ],
   "source": [
    "words1"
   ]
  },
  {
   "cell_type": "code",
   "execution_count": 13,
   "id": "b99d7387",
   "metadata": {},
   "outputs": [
    {
     "data": {
      "image/png": "[encoded data removed]",
      "text/plain": [
       "<Figure size 1200x800 with 1 Axes>"
      ]
     },
     "metadata": {},
     "output_type": "display_data"
    }
   ],
   "source": [
    "matplotlib.rcParams['font.family'] = ['Heiti TC'] #Show Chinese label\n",
    "\n",
    "fig, ax = plt.subplots(figsize=(12,8))\n",
    "sns.barplot(x=words_eng1, y=freqs1, color='grey')\n",
    "ax.set_facecolor('white') #set background as white\n",
    "\n",
    "#remove spines around the chart\n",
    "ax.spines['top'].set_visible(False)\n",
    "ax.spines[\"bottom\"].set_visible(False)\n",
    "ax.spines[\"right\"].set_visible(False)\n",
    "ax.spines[\"left\"].set_visible(False)\n",
    "\n",
    "#label the frequency on the top of each bar\n",
    "for i, bar in enumerate(ax.containers):\n",
    "    heights = [b.get_height() for b in bar]\n",
    "    for j, height in enumerate(heights):\n",
    "        ax.annotate(int(heights[j]), xy=(bar[j].get_x()+ bar[j].get_width() / 2, heights[j]),\n",
    "                    xytext=(0, 0), \n",
    "                    textcoords=\"offset points\",\n",
    "                    ha='center', va='bottom', fontsize=14,family='cursive')\n",
    "        \n",
    "plt.xlabel('') #year is obvious, we don't need the label\n",
    "plt.xticks(fontsize=14,family='cursive') #set font and size of year on x-axis\n",
    "\n",
    "plt.ylabel('Frequency', fontsize=14,family='cursive') #set y-label\n",
    "plt.yticks(fontsize=14,family='cursive') #set font and size of year on x-axis\n",
    "\n",
    "plt.title(\"Figure 2: Top 10 words of articles from 1980 to 2012\",size= 16,family='cursive', weight='bold')\n",
    "\n",
    "#control ticks\n",
    "plt.tick_params(\n",
    "    axis='x',          # changes apply to the x-axis\n",
    "    which='both',      # both major and minor ticks are affected\n",
    "    bottom=False,      # ticks along the bottom edge are off\n",
    "    top=False,         # ticks along the top edge are off\n",
    "    labelbottom=True) # labels along the bottom edge are on\n",
    "\n",
    "plt.tick_params(\n",
    "    axis='y',          # changes apply to the y-axis\n",
    "    which='both',      # both major and minor ticks are affected\n",
    "    left=False,      # ticks along the left edge are off\n",
    "    labelbottom=True) # labels along the bottom edge are on\n",
    "\n",
    "plt.tight_layout() #make sure the layout is efficient"
   ]
  },
  {
   "cell_type": "code",
   "execution_count": 14,
   "id": "866162d4",
   "metadata": {},
   "outputs": [
    {
     "data": {
      "text/plain": [
       "['美国', '艾滋病', '出版', '女书', '媒体', '克兰', '德国', '一月', '华盛顿邮报', '网站']"
      ]
     },
     "execution_count": 14,
     "metadata": {},
     "output_type": "execute_result"
    }
   ],
   "source": [
    "text2=df2['Body'].to_string()\n",
    "words2 =jieba.cut(text2)\n",
    "word_list2 = []\n",
    "for word in words2:\n",
    "    word_list2.append(word)\n",
    "wordcounts2 = {}\n",
    "for word in word_list2:\n",
    "    if len(word) == 1:\n",
    "        continue\n",
    "    if word in stopwords:\n",
    "        continue\n",
    "    if word.isnumeric():\n",
    "        continue\n",
    "    if word in ['新华社','报道','...','本报','记者','一种','本报记者','日电','日前','一个','图为']:\n",
    "        continue\n",
    "    else:\n",
    "        wordcounts2[word]=wordcounts2.get(word, 0) + 1\n",
    "top_words2 = sorted(wordcounts2.items(), key=lambda x: x[1], reverse=True)[:10]\n",
    "words2 = [x[0] for x in top_words2]\n",
    "freqs2 = [x[1] for x in top_words2]\n",
    "words2"
   ]
  },
  {
   "cell_type": "code",
   "execution_count": 15,
   "id": "cdabd8bb",
   "metadata": {},
   "outputs": [],
   "source": [
    "words_eng2=['United States','AIDS','Published',\"Women's Writing\",'Media',\n",
    "            'Cochrane','Germany','January', 'Washington Post', 'Website']"
   ]
  },
  {
   "cell_type": "code",
   "execution_count": 16,
   "id": "97d54f87",
   "metadata": {
    "scrolled": false
   },
   "outputs": [
    {
     "data": {
      "image/png": "[encoded data removed]",
      "text/plain": [
       "<Figure size 1200x800 with 1 Axes>"
      ]
     },
     "metadata": {},
     "output_type": "display_data"
    }
   ],
   "source": [
    "matplotlib.rcParams['font.family'] = ['Heiti TC'] #Show Chinese label\n",
    "\n",
    "fig, ax = plt.subplots(figsize=(12,8))\n",
    "sns.barplot(x=words_eng2, y=freqs2, color='grey')\n",
    "ax.set_facecolor('white') #set background as white\n",
    "\n",
    "#remove spines around the chart\n",
    "ax.spines['top'].set_visible(False)\n",
    "ax.spines[\"bottom\"].set_visible(False)\n",
    "ax.spines[\"right\"].set_visible(False)\n",
    "ax.spines[\"left\"].set_visible(False)\n",
    "\n",
    "#label the frequency on the top of each bar\n",
    "for i, bar in enumerate(ax.containers):\n",
    "    heights = [b.get_height() for b in bar]\n",
    "    for j, height in enumerate(heights):\n",
    "        ax.annotate(int(heights[j]), xy=(bar[j].get_x()+ bar[j].get_width() / 2, heights[j]),\n",
    "                    xytext=(0, 0), \n",
    "                    textcoords=\"offset points\",\n",
    "                    ha='center', va='bottom', fontsize=14,family='cursive')\n",
    "        \n",
    "plt.xlabel('') #year is obvious, we don't need the label\n",
    "plt.xticks(fontsize=14,family='cursive') #set font and size of year on x-axis\n",
    "\n",
    "plt.ylabel('Frequency', fontsize=14,family='cursive') #set y-label\n",
    "plt.yticks(fontsize=14,family='cursive') #set font and size of year on x-axis\n",
    "\n",
    "plt.title(\"Figure 3: Top 10 words of articles from 2013 to 2022\",size= 16,family='cursive', weight='bold')\n",
    "\n",
    "#control ticks\n",
    "plt.tick_params(\n",
    "    axis='x',          # changes apply to the x-axis\n",
    "    which='both',      # both major and minor ticks are affected\n",
    "    bottom=False,      # ticks along the bottom edge are off\n",
    "    top=False,         # ticks along the top edge are off\n",
    "    labelbottom=True) # labels along the bottom edge are on\n",
    "\n",
    "plt.tick_params(\n",
    "    axis='y',          # changes apply to the y-axis\n",
    "    which='both',      # both major and minor ticks are affected\n",
    "    left=False,      # ticks along the left edge are off\n",
    "    labelbottom=True) # labels along the bottom edge are on\n",
    "\n",
    "plt.tight_layout() #make sure the layout is efficient"
   ]
  },
  {
   "cell_type": "markdown",
   "id": "a8ed0b91",
   "metadata": {},
   "source": [
    "From 1980 to 2022, homosexuality is most frequently linked with AIDS and United States. During 1980-2012, homosexuality was discussed in a medical context: the discussion primarily centered around AIDS (58/182=0.32 per article), and 'United States' has a frequency of 47/182=0.26 per article. Between 2013 and 2022, AIDS was not mentioned as frequently as in previous time period (5/26=0.19 per article), and United States became the main focus instead (12/26=0.46 per article), way higher than the previous period's attention to 'United States' and even higher than the previous period's attention to 'AIDS'. After Xi came to power, United States is mentioned almost in every two articles, while AIDS is only mentioned in every five articles."
   ]
  },
  {
   "cell_type": "markdown",
   "id": "d2c9c3f8",
   "metadata": {},
   "source": [
    "### 2. Sentiment Analysis"
   ]
  },
  {
   "cell_type": "markdown",
   "id": "b4aa8692",
   "metadata": {},
   "source": [
    "#### Extracting sentences containing 'homosexual'"
   ]
  },
  {
   "cell_type": "code",
   "execution_count": 17,
   "id": "6feb32d0",
   "metadata": {},
   "outputs": [],
   "source": [
    "before_text=[row['Body'] for index, row in df1.iterrows()]\n",
    "after_text=[row['Body'] for index, row in df2.iterrows()]"
   ]
  },
  {
   "cell_type": "code",
   "execution_count": 78,
   "id": "b5d5e7e2",
   "metadata": {},
   "outputs": [
    {
     "name": "stdout",
     "output_type": "stream",
     "text": [
      "[['旧金山市长选举本已在十一月举行过了，但由于有一个同性恋的商人斯科特赢得了百分之十的选票，使得现任女市长范因斯坦和现任督察员柯普都未能超过半数'], ['他们痛恨的是同性恋、电视上的性问题、平等权利修正案、美国教育部'], ['但同时这里也有失业，有堂皇的剥削和谋杀，有冒险、赌博、吸毒和同性恋……在可口可乐的玻璃杯后面，在摇滚音乐暂时休止的间歇里，你会看到一副古老民族苦楚的面容，在遭受长期凌辱和压榨中，从脸上滚下大颗大颗的眼泪'], ['患此病的人绝大多数（９０％）是男同性恋者'], ['大学里当然也有没有“约会”的男女，他们也并不是闹同性恋的，也不是七丑八怪的，也不是反对社交的']]\n"
     ]
    }
   ],
   "source": [
    "filtered_sentences1 = []\n",
    "for i in before_text:\n",
    "    sentences1 = i.split(\"。\")\n",
    "    keyword = \"同性恋\"\n",
    "    result1 = [sentence for sentence in sentences1 if keyword in sentence]\n",
    "    filtered_sentences1.append(result1)\n",
    "print(filtered_sentences1[:5])"
   ]
  },
  {
   "cell_type": "code",
   "execution_count": 79,
   "id": "97a48106",
   "metadata": {},
   "outputs": [
    {
     "name": "stdout",
     "output_type": "stream",
     "text": [
      "[['但由于涉及同性恋主题而饱受争议'], ['他吸毒、同性恋、行为古怪，被认为是美国“垮掉的一代”的代表人物'], ['\\u3000\\u3000展厅面积不大，却通过大量照片、文件、信件、影像，将纳粹时期被迫害的人活生生地展现在人们眼前，他们不是标签化的“犹太人”或者“同性恋”，而是一个个有血和肉、有名有姓的人，这里有他们的照片、字迹以及贴身的用品'], ['经调查，该网站备案信息虚假，为非法出版网站，其发布的漫画书籍不同程度地存在展示性器官、宣扬同性恋、血腥暴力、低俗等问题'], ['有纳粹党似是而非的政策主张——种族主义、反犹主义、极权主义、反同性恋思想、全民就业、打击暴利等等，只要能达到迷惑民众的目的，都被装入纳粹主义的大缸']]\n"
     ]
    }
   ],
   "source": [
    "filtered_sentences2 = []\n",
    "for i in after_text:\n",
    "    sentences2 = i.split(\"。\")\n",
    "    keyword = \"同性恋\"\n",
    "    result2= [sentence for sentence in sentences2 if keyword in sentence]\n",
    "    filtered_sentences2.append(result2)\n",
    "print(filtered_sentences2[:5])"
   ]
  },
  {
   "cell_type": "markdown",
   "id": "0fb9a455",
   "metadata": {},
   "source": [
    "Most of the depictions of homosexuals in the sampled sentences from both time periods are negative."
   ]
  },
  {
   "cell_type": "markdown",
   "id": "0fdf52b3",
   "metadata": {},
   "source": [
    "#### Sentiment analysis of each sentence"
   ]
  },
  {
   "cell_type": "code",
   "execution_count": 46,
   "id": "17d6d0d3",
   "metadata": {},
   "outputs": [],
   "source": [
    "sentiment_1=[]\n",
    "for sentence_list in filtered_sentences1:\n",
    "    for i in sentence_list:\n",
    "        s=SnowNLP(i)\n",
    "        score = s.sentiments\n",
    "        sentiment_1.append(score)"
   ]
  },
  {
   "cell_type": "code",
   "execution_count": 48,
   "id": "734d5ab8",
   "metadata": {},
   "outputs": [],
   "source": [
    "sentiment1=[]\n",
    "for sentence_list in filtered_sentences1:\n",
    "    for i in sentence_list:\n",
    "        score = predict(i)\n",
    "        sentiment1.append(score)"
   ]
  },
  {
   "cell_type": "code",
   "execution_count": 49,
   "id": "9bbedbd4",
   "metadata": {},
   "outputs": [],
   "source": [
    "sentiment_2=[]\n",
    "for sentence_list in filtered_sentences2:\n",
    "    for i in sentence_list:\n",
    "        s=SnowNLP(i)\n",
    "        score = s.sentiments\n",
    "        sentiment_2.append(score)"
   ]
  },
  {
   "cell_type": "code",
   "execution_count": 50,
   "id": "42d78496",
   "metadata": {},
   "outputs": [],
   "source": [
    "sentiment2=[]\n",
    "for sentence_list in filtered_sentences2:\n",
    "    for i in sentence_list:\n",
    "        score = predict(i)\n",
    "        sentiment2.append(score)"
   ]
  },
  {
   "cell_type": "markdown",
   "id": "e57cec9f",
   "metadata": {},
   "source": [
    "#### Average sentiment scores of each time period"
   ]
  },
  {
   "cell_type": "code",
   "execution_count": 51,
   "id": "cdcb9f6f",
   "metadata": {},
   "outputs": [
    {
     "data": {
      "text/plain": [
       "0.8090965815568406"
      ]
     },
     "execution_count": 51,
     "metadata": {},
     "output_type": "execute_result"
    }
   ],
   "source": [
    "mean_1=sum(sentiment_1)/len(sentiment_1)\n",
    "mean_1"
   ]
  },
  {
   "cell_type": "code",
   "execution_count": 52,
   "id": "e8b8f059",
   "metadata": {},
   "outputs": [
    {
     "data": {
      "text/plain": [
       "-0.1983783783783784"
      ]
     },
     "execution_count": 52,
     "metadata": {},
     "output_type": "execute_result"
    }
   ],
   "source": [
    "mean1=sum(sentiment1)/len(sentiment1)\n",
    "mean1"
   ]
  },
  {
   "cell_type": "code",
   "execution_count": 53,
   "id": "1d47f2a4",
   "metadata": {},
   "outputs": [
    {
     "data": {
      "text/plain": [
       "0.826069870456177"
      ]
     },
     "execution_count": 53,
     "metadata": {},
     "output_type": "execute_result"
    }
   ],
   "source": [
    "mean_2=sum(sentiment_2)/len(sentiment_2)\n",
    "mean_2"
   ]
  },
  {
   "cell_type": "code",
   "execution_count": 54,
   "id": "cff6b4dd",
   "metadata": {},
   "outputs": [
    {
     "data": {
      "text/plain": [
       "-0.12526315789473685"
      ]
     },
     "execution_count": 54,
     "metadata": {},
     "output_type": "execute_result"
    }
   ],
   "source": [
    "mean2=sum(sentiment2)/len(sentiment2)\n",
    "mean2"
   ]
  },
  {
   "cell_type": "code",
   "execution_count": 77,
   "id": "fc8def48",
   "metadata": {},
   "outputs": [
    {
     "data": {
      "text/html": [
       "<div>\n",
       "<style scoped>\n",
       "    .dataframe tbody tr th:only-of-type {\n",
       "        vertical-align: middle;\n",
       "    }\n",
       "\n",
       "    .dataframe tbody tr th {\n",
       "        vertical-align: top;\n",
       "    }\n",
       "\n",
       "    .dataframe thead th {\n",
       "        text-align: right;\n",
       "    }\n",
       "</style>\n",
       "<table border=\"1\" class=\"dataframe\">\n",
       "  <thead>\n",
       "    <tr style=\"text-align: right;\">\n",
       "      <th></th>\n",
       "      <th>1980-2012</th>\n",
       "      <th>2013-2022</th>\n",
       "    </tr>\n",
       "  </thead>\n",
       "  <tbody>\n",
       "    <tr>\n",
       "      <th>snownlp</th>\n",
       "      <td>0.81</td>\n",
       "      <td>0.83</td>\n",
       "    </tr>\n",
       "    <tr>\n",
       "      <th>jieba</th>\n",
       "      <td>-0.20</td>\n",
       "      <td>-0.13</td>\n",
       "    </tr>\n",
       "  </tbody>\n",
       "</table>\n",
       "</div>"
      ],
      "text/plain": [
       "         1980-2012  2013-2022\n",
       "snownlp       0.81       0.83\n",
       "jieba        -0.20      -0.13"
      ]
     },
     "execution_count": 77,
     "metadata": {},
     "output_type": "execute_result"
    }
   ],
   "source": [
    "sen_data = {'1980-2012': [0.81, -0.20], '2013-2022': [0.83, -0.13]}\n",
    "sen_df = pd.DataFrame(sen_data)\n",
    "sen_df = sen_df.rename(index={0: 'snownlp', 1: 'jieba'})\n",
    "sen_df"
   ]
  },
  {
   "cell_type": "markdown",
   "id": "48834cdd",
   "metadata": {},
   "source": [
    "The sentences mentioning gay people were extracted from texts of two different time periods, and the sentiment score of each sentence was acquired to calculate the average sentiment score for each period. Two Chinese sentiment analysis packages, snownlp and jieba, were used for this purpose. The output range of snownlp sentiment analysis is from 0 to 1, where 0 represents negative sentiment and 1 represents positive sentiment. The output range of jieba sentiment analysis is from -1 to 1, where -1 represents negative sentiment and 1 represents positive sentiment.\n",
    "\n",
    "The results of snownlp sentiment analysis for both time periods were over 0.5, indicating positive sentiments. However, this is not consistent with the results of qualitatively reading sampled sentences from each period. The results of jieba sentiment analysis for both time periods were negative, indicating negative sentiments, which are consistent with the results of qualitatively reading sampled sentences from each period. Therefore, for the corpus of this project, the results of jieba sentiment analysis seem to be more reliable than those of snownlp.\n",
    "\n",
    "Both snownlp and jieba sentiment analysis results show that homosexuals were depicted more positively in the latter period compared to the former period. This could be due to the growing trend of acceptance of LGBTQ people over years."
   ]
  },
  {
   "cell_type": "markdown",
   "id": "4dbab65a",
   "metadata": {},
   "source": [
    "#### Reference group"
   ]
  },
  {
   "cell_type": "code",
   "execution_count": 55,
   "id": "7e7837da",
   "metadata": {},
   "outputs": [],
   "source": [
    "mask3 = (df['Date'] >= '2003-01-01') & (df['Date'] <= '2012-12-31')\n",
    "df3 = df[mask3]\n",
    "ten_text=[row['Body'] for index, row in df3.iterrows()]"
   ]
  },
  {
   "cell_type": "code",
   "execution_count": 80,
   "id": "4ac2516b",
   "metadata": {},
   "outputs": [
    {
     "name": "stdout",
     "output_type": "stream",
     "text": [
      "[['法国女科学家、雷尔教派成员布里吉特·布瓦瑟利耶对法新社说，第二个克隆婴儿也是女孩，其“父母”是一对荷兰女同性恋者'], ['美国国家过敏和传染病研究所卡罗琳·威廉斯博士介绍说，她和同事们对271名同性恋男子进行了长达十几年的跟踪调查，这些男子都先后感染了艾滋病病毒，其中40％的人血样中含有“GBV－C”病毒'], ['同年2月21日，又有一枚炸弹在亚特兰大的一家同性恋夜总会外爆炸，致使5人受伤', '该组织反对堕胎、同性恋和外国人'], ['某歌星飙车撞人，某影星偷税漏税，某某艺人的婚外情、同性恋，哪出戏演员导演反目停机，哪个颁奖会上曝出黑幕等等，都是一些媒体争相炒作的猛料'], ['同性恋在欧洲普遍习以为常，荷兰有一家清真寺的宣礼阿訇称同性恋是“病”的说法，招致一大堆同性恋组织的围攻，要求宣礼者书面保证不再批评和攻击西方世界']]\n"
     ]
    }
   ],
   "source": [
    "filtered_sentences3 = []\n",
    "for i in ten_text:\n",
    "    sentences3 = i.split(\"。\")\n",
    "    keyword = \"同性恋\"\n",
    "    result3 = [sentence for sentence in sentences3 if keyword in sentence]\n",
    "    filtered_sentences3.append(result3)\n",
    "print(filtered_sentences3[:5])"
   ]
  },
  {
   "cell_type": "code",
   "execution_count": 58,
   "id": "c068dea8",
   "metadata": {},
   "outputs": [],
   "source": [
    "sentiment_3=[]\n",
    "for sentence_list in filtered_sentences3:\n",
    "    for i in sentence_list:\n",
    "        s=SnowNLP(i)\n",
    "        score = s.sentiments\n",
    "        sentiment_3.append(score)"
   ]
  },
  {
   "cell_type": "code",
   "execution_count": 59,
   "id": "c02e13b6",
   "metadata": {},
   "outputs": [
    {
     "data": {
      "text/plain": [
       "0.8185066536300498"
      ]
     },
     "execution_count": 59,
     "metadata": {},
     "output_type": "execute_result"
    }
   ],
   "source": [
    "mean_3=sum(sentiment_3)/len(sentiment_3)\n",
    "mean_3"
   ]
  },
  {
   "cell_type": "code",
   "execution_count": 60,
   "id": "a868d81e",
   "metadata": {},
   "outputs": [],
   "source": [
    "sentiment3=[]\n",
    "for sentence_list in filtered_sentences3:\n",
    "    for i in sentence_list:\n",
    "        score = predict(i)\n",
    "        sentiment3.append(score)"
   ]
  },
  {
   "cell_type": "code",
   "execution_count": 61,
   "id": "4943be14",
   "metadata": {},
   "outputs": [
    {
     "data": {
      "text/plain": [
       "-0.08151724137931037"
      ]
     },
     "execution_count": 61,
     "metadata": {},
     "output_type": "execute_result"
    }
   ],
   "source": [
    "mean3=sum(sentiment3)/len(sentiment3)\n",
    "mean3"
   ]
  },
  {
   "cell_type": "code",
   "execution_count": 81,
   "id": "a2ce2687",
   "metadata": {},
   "outputs": [
    {
     "data": {
      "text/html": [
       "<div>\n",
       "<style scoped>\n",
       "    .dataframe tbody tr th:only-of-type {\n",
       "        vertical-align: middle;\n",
       "    }\n",
       "\n",
       "    .dataframe tbody tr th {\n",
       "        vertical-align: top;\n",
       "    }\n",
       "\n",
       "    .dataframe thead th {\n",
       "        text-align: right;\n",
       "    }\n",
       "</style>\n",
       "<table border=\"1\" class=\"dataframe\">\n",
       "  <thead>\n",
       "    <tr style=\"text-align: right;\">\n",
       "      <th></th>\n",
       "      <th>2003-2012</th>\n",
       "      <th>2013-2022</th>\n",
       "    </tr>\n",
       "  </thead>\n",
       "  <tbody>\n",
       "    <tr>\n",
       "      <th>snownlp</th>\n",
       "      <td>0.82</td>\n",
       "      <td>0.83</td>\n",
       "    </tr>\n",
       "    <tr>\n",
       "      <th>jieba</th>\n",
       "      <td>-0.08</td>\n",
       "      <td>-0.13</td>\n",
       "    </tr>\n",
       "  </tbody>\n",
       "</table>\n",
       "</div>"
      ],
      "text/plain": [
       "         2003-2012  2013-2022\n",
       "snownlp       0.82       0.83\n",
       "jieba        -0.08      -0.13"
      ]
     },
     "execution_count": 81,
     "metadata": {},
     "output_type": "execute_result"
    }
   ],
   "source": [
    "ref_data = {'2003-2012': [0.82, -0.08], '2013-2022': [0.83, -0.13]}\n",
    "ref_df = pd.DataFrame(ref_data)\n",
    "ref_df = ref_df.rename(index={0: 'snownlp', 1: 'jieba'})\n",
    "ref_df"
   ]
  },
  {
   "cell_type": "markdown",
   "id": "aa16e02d",
   "metadata": {},
   "source": [
    "In order to minimize the impact of increasing tolerance towards gay people over time, I selected articles from 2003-2012 as a 'reference group' - the closest decade to 2013-2022, to see if there were still differences in sentiment analysis between 2003-2012 and 2013-2022.\n",
    "\n",
    "The result of snownlp sentiment analysis for 2003-2012 was still over 0.5. Compared to the result of snownlp sentiment analysis for 1980-2012, the result for 2003-2012 had slightly increased. Although it was still lower than that of 2013-2022, the difference was very small. The results of jieba sentiment analysis for 2003-2012 were still negative, but increased by 0.12 compared to the results for 1980-2012, resulting in a larger score than that of 2013-2022, indicating more positive depictions of gay people. \n",
    "\n",
    "Both snownlp and jieba sentiment analysis results showed that gay people were depicted more positively in 2003-2012 compared to 1980-2012. The result of jieba sentiment analysis also indicated that gay people were depicted more positively in 2003-2012 compared to 2013-2022."
   ]
  },
  {
   "cell_type": "markdown",
   "id": "5e3c330a",
   "metadata": {},
   "source": [
    "## Conclusions"
   ]
  },
  {
   "cell_type": "markdown",
   "id": "b71901ff",
   "metadata": {},
   "source": [
    "Aimming to examine how gay people are portrayed in Chinese state-owned media and how this portrayal has changed before and after Xi Jinping's rise to power, this project conducted a text analysis of People's Daily from 1980 to 2022 The findings indicate that the attention paid to gay people in People's Daily has decreased significantly since Xi came to power, with a reduction of over 50% in the number of articles. The word frequency analysis reveals that before Xi, gay people were primarily associated with AIDS, whereas after Xi, they were linked more frequently with the United States. The sentiment analysis indicates that while the portrayal of gay people has become more positive compared to the 1980-2012 period, it has become more negative compared to the 2003-2012 period.\n",
    "\n",
    "These results provide compelling evidence of a negative representation of gay people in Chinese state-owned media from 1980 to 2022, which is just one of the challenges faced by LGBTQ individuals in China today. There are noticeable differences in how gay people are portrayed before and after Xi came to power, with a decrease in visibility and an increase in association with the United States. Also, gay people were depicted more negatively when comparing with the preceding decade. These are evidence that Xi's ascension to power has resulted in a harsher environment for homosexual individuals in China.\n",
    "\n",
    "Moving forward, it is recommended that future studies supplement the findings with qualitative analysis to answer further questions, such as how gay people are linked with the US after Xi came to power. Moreover, the reliability of the sentiment analysis requires additional verification. There are also risks when only extracting sentences that contain the word \"homosexual\"; with the entire articles, the contexts of the extracted lines can alter. Qualitatively deep reading is required to make up these limitations.\n",
    "\n",
    "Ultimately, continued efforts to understand and address the challenges faced by LGBTQ individuals in China will be crucial for promoting greater inclusivity and acceptance in Chinese society."
   ]
  },
  {
   "cell_type": "markdown",
   "id": "faee4c39",
   "metadata": {},
   "source": [
    "## Ethical Implications"
   ]
  },
  {
   "cell_type": "markdown",
   "id": "19d5aee4",
   "metadata": {},
   "source": [
    "**Privacy and Confidentiality**  \n",
    "When presenting the results, maybe it's better for researchers to keep the authors of articles confidential. Though these articles are published, it is still crucial to ensure that authors' identities are not disclosed in any way that could harm them. Additionally, fake names could be used for people who were mentioned in the articles depending on situations.\n",
    "\n",
    "**Biased Stance**  \n",
    "As a member of LGBTQ community myself, it could be hard for me to remain unbiased and objective in my data analysis of gay people's representation state-owned media. There might be some unavoided personal biases that could affect the interpretations and conclusions."
   ]
  }
 ],
 "metadata": {
  "kernelspec": {
   "display_name": "Python 3 (ipykernel)",
   "language": "python",
   "name": "python3"
  },
  "language_info": {
   "codemirror_mode": {
    "name": "ipython",
    "version": 3
   },
   "file_extension": ".py",
   "mimetype": "text/x-python",
   "name": "python",
   "nbconvert_exporter": "python",
   "pygments_lexer": "ipython3",
   "version": "3.9.13"
  }
 },
 "nbformat": 4,
 "nbformat_minor": 5
}
